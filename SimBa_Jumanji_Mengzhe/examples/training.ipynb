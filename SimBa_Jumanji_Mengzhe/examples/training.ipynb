{
 "cells": [
  {
   "cell_type": "markdown",
   "metadata": {},
   "source": [
    "<a target=\"_blank\" href=\"https://colab.research.google.com/github/instadeepai/jumanji/blob/main/examples/training.ipynb\">\n",
    "  <img src=\"https://colab.research.google.com/assets/colab-badge.svg\" alt=\"Open In Colab\"/>\n",
    "</a>"
   ]
  },
  {
   "cell_type": "code",
   "execution_count": null,
   "metadata": {},
   "outputs": [],
   "source": []
  },
  {
   "cell_type": "code",
   "execution_count": null,
   "metadata": {
    "ExecuteTime": {
     "end_time": "2023-06-14T10:11:33.230999708Z",
     "start_time": "2023-06-14T10:11:13.526881698Z"
    }
   },
   "outputs": [],
   "source": [
    "%%capture\n",
    "!pip install --quiet -U \"jumanji[train] @ git+https://github.com/instadeepai/jumanji.git@main\""
   ]
  },
  {
   "cell_type": "code",
   "execution_count": null,
   "metadata": {},
   "outputs": [],
   "source": [
    "!pip install -e ."
   ]
  },
  {
   "cell_type": "code",
   "execution_count": 1,
   "metadata": {
    "ExecuteTime": {
     "end_time": "2023-06-14T10:11:33.245117659Z",
     "start_time": "2023-06-14T10:11:33.237735383Z"
    }
   },
   "outputs": [
    {
     "name": "stdout",
     "output_type": "stream",
     "text": [
      "Only CPU accelerator is connected.\n"
     ]
    }
   ],
   "source": [
    "# @title Set up JAX for available hardware (run me) { display-mode: \"form\" }\n",
    "import sys\n",
    "import subprocess\n",
    "import os\n",
    "\n",
    "# Based on https://stackoverflow.com/questions/67504079/how-to-check-if-an-nvidia-gpu-is-available-on-my-system\n",
    "try:\n",
    "    subprocess.check_output(\"nvidia-smi\")\n",
    "    print(\"a GPU is connected.\")\n",
    "except Exception:\n",
    "    # TPU or CPU\n",
    "    if \"COLAB_TPU_ADDR\" in os.environ and os.environ[\"COLAB_TPU_ADDR\"]:\n",
    "        import jax.tools.colab_tpu\n",
    "\n",
    "        jax.tools.colab_tpu.setup_tpu()\n",
    "        print(\"A TPU is connected.\")\n",
    "    else:\n",
    "        print(\"Only CPU accelerator is connected.\")"
   ]
  },
  {
   "cell_type": "code",
   "execution_count": 2,
   "metadata": {
    "ExecuteTime": {
     "end_time": "2023-06-14T10:11:33.268137075Z",
     "start_time": "2023-06-14T10:11:33.246267189Z"
    },
    "collapsed": false,
    "jupyter": {
     "outputs_hidden": false
    }
   },
   "outputs": [
    {
     "name": "stdout",
     "output_type": "stream",
     "text": [
      "['/Library/Frameworks/Python.framework/Versions/3.10/lib/python310.zip',\n",
      " '/Library/Frameworks/Python.framework/Versions/3.10/lib/python3.10',\n",
      " '/Library/Frameworks/Python.framework/Versions/3.10/lib/python3.10/lib-dynload',\n",
      " '',\n",
      " '/Users/ibe/School/435COS reinforcement '\n",
      " 'learning/final/435/lib/python3.10/site-packages']\n"
     ]
    }
   ],
   "source": [
    "import warnings\n",
    "import sys, pprint\n",
    "\n",
    "warnings.filterwarnings(\"ignore\")\n",
    "from jumanji.training.train import train\n",
    "from hydra import compose, initialize\n",
    "pprint.pprint(sys.path)"
   ]
  },
  {
   "cell_type": "code",
   "execution_count": null,
   "metadata": {},
   "outputs": [
    {
     "name": "stderr",
     "output_type": "stream",
     "text": [
      "INFO:root:{'devices': [CpuDevice(id=0)]}\n",
      "INFO:root:Experiment: a2c_simba_rubiks_cube.\n"
     ]
    },
    {
     "name": "stdout",
     "output_type": "stream",
     "text": [
      "Setting up simba networks for rubiks cube\n"
     ]
    },
    {
     "name": "stderr",
     "output_type": "stream",
     "text": [
      "INFO:root:Starting logger.\n",
      "INFO:root:Eval Stochastic >> Env Steps: 0.00e+00 | Episode Length: 19.981 | Episode Return: 0.001 | Time: 2.399\n",
      "INFO:root:Eval Greedy >> Env Steps: 0.00e+00 | Episode Length: 20.000 | Episode Return: 0.000 | Time: 2.620\n",
      "INFO:root:Train >> Env Steps: 0.00e+00 | Advantage: 0.001 | Critic Loss: 0.006 | Entropy: 2.871 | Entropy Loss: -2.871 | Policy Loss: 0.004 | Steps Per Second: 10,751 | Time: 23.812 | Total Loss: -0.018 | Value: -0.005\n",
      "INFO:root:Eval Stochastic >> Env Steps: 2.56e+05 | Episode Length: 19.981 | Episode Return: 0.001 | Time: 0.217\n",
      "INFO:root:Eval Greedy >> Env Steps: 2.56e+05 | Episode Length: 20.000 | Episode Return: 0.000 | Time: 0.203\n",
      "INFO:root:Saving checkpoint...\n"
     ]
    }
   ],
   "source": [
    "import omegaconf\n",
    "env = \"rubiks_cube\"  # @param ['bin_pack', 'cleaner', 'connector', 'cvrp', 'game_2048', 'graph_coloring', 'job_shop', 'knapsack', 'maze', 'minesweeper', 'mmst', 'multi_cvrp', 'robot_warehouse', 'rubiks_cube', 'search_and_rescue', 'snake', 'sudoku', 'tetris', 'tsp']\n",
    "agent = \"a2c_simba\"  # @param ['random', 'a2c', 'a2c_simba']\n",
    "with initialize(version_base=None, config_path=\"../jumanji/training/configs\"):\n",
    "    cfg = compose(\n",
    "        config_name=\"config.yaml\",\n",
    "        overrides=[\n",
    "            f\"env={env}\",\n",
    "            f\"agent={agent}\",\n",
    "            \"logger.type=terminal\",\n",
    "            \"logger.save_checkpoint=true\",\n",
    "            \"+hydra.run.chdir=false\",\n",
    "        ],\n",
    "    )\n",
    "#print(omegaconf.OmegaConf.to_yaml(cfg.env))\n",
    "train(cfg)"
   ]
  },
  {
   "cell_type": "code",
   "execution_count": null,
   "metadata": {
    "ExecuteTime": {
     "end_time": "2023-06-14T10:11:33.279561988Z",
     "start_time": "2023-06-14T10:11:33.268947238Z"
    },
    "collapsed": false,
    "jupyter": {
     "outputs_hidden": false
    }
   },
   "outputs": [],
   "source": [
    "env = \"tetris\"  # @param ['bin_pack', 'cleaner', 'connector', 'cvrp', 'game_2048', 'graph_coloring', 'job_shop', 'knapsack', 'maze', 'minesweeper', 'mmst', 'multi_cvrp', 'robot_warehouse', 'rubiks_cube', 'search_and_rescue', 'snake', 'sudoku', 'tetris', 'tsp']\n",
    "agent = \"a2c_simba\"  # @param ['random', 'a2c', 'a2c_simba']"
   ]
  },
  {
   "cell_type": "code",
   "execution_count": null,
   "metadata": {
    "ExecuteTime": {
     "end_time": "2023-06-14T10:11:33.662474073Z",
     "start_time": "2023-06-14T10:11:33.281569701Z"
    }
   },
   "outputs": [],
   "source": [
    "# @title Download Jumanji Configs (run me) { display-mode: \"form\" }\n",
    "\n",
    "import os\n",
    "import requests\n",
    "\n",
    "\n",
    "def download_file(url: str, file_path: str) -> None:\n",
    "    # Send an HTTP GET request to the URL\n",
    "    response = requests.get(url)\n",
    "    # Check if the request was successful (status code 200)\n",
    "    if response.status_code == 200:\n",
    "        with open(file_path, \"wb\") as f:\n",
    "            f.write(response.content)\n",
    "    else:\n",
    "        print(\"Failed to download the file.\")\n",
    "\n",
    "\n",
    "os.makedirs(\"configs\", exist_ok=True)\n",
    "config_url = \"https://raw.githubusercontent.com/instadeepai/jumanji/main/jumanji/training/configs/config.yaml\"\n",
    "download_file(config_url, \"configs/config.yaml\")\n",
    "env_url = f\"https://raw.githubusercontent.com/instadeepai/jumanji/main/jumanji/training/configs/env/{env}.yaml\"\n",
    "os.makedirs(\"configs/env\", exist_ok=True)\n",
    "download_file(env_url, f\"configs/env/{env}.yaml\")"
   ]
  },
  {
   "cell_type": "code",
   "execution_count": null,
   "metadata": {
    "ExecuteTime": {
     "end_time": "2023-06-14T10:12:46.061682766Z",
     "start_time": "2023-06-14T10:11:33.664132133Z"
    },
    "collapsed": false,
    "jupyter": {
     "outputs_hidden": false
    }
   },
   "outputs": [],
   "source": [
    "env = \"tetris\"  # @param ['bin_pack', 'cleaner', 'connector', 'cvrp', 'game_2048', 'graph_coloring', 'job_shop', 'knapsack', 'maze', 'minesweeper', 'mmst', 'multi_cvrp', 'robot_warehouse', 'rubiks_cube', 'search_and_rescue', 'snake', 'sudoku', 'tetris', 'tsp']\n",
    "agent = \"a2c_simba\"  # @param ['random', 'a2c', 'a2c_simba']\n",
    "with initialize(version_base=None, config_path=\"../jumanji/training/configs\"):\n",
    "    cfg = compose(\n",
    "        config_name=\"config.yaml\",\n",
    "        overrides=[\n",
    "            f\"env={env}\",\n",
    "            f\"agent={agent}\",\n",
    "            \"logger.type=terminal\",\n",
    "            \"logger.save_checkpoint=true\",\n",
    "        ],\n",
    "    )\n",
    "\n",
    "train(cfg)"
   ]
  },
  {
   "cell_type": "code",
   "execution_count": null,
   "metadata": {},
   "outputs": [],
   "source": [
    "import re\n",
    "import matplotlib.pyplot as plt\n",
    "\n",
    "log_path = \"training_output_3.log\"  # adjust if needed\n",
    "\n",
    "plt.clf()\n",
    "greedy_returns = []\n",
    "stochastic_returns = []\n",
    "steps = []\n",
    "\n",
    "with open(log_path, \"r\") as f:\n",
    "    for line in f:\n",
    "        if \"Eval Greedy\" in line:\n",
    "            match = re.search(r\"Env Steps: ([\\d.e+]+).*?Episode Return: ([\\d.]+)\", line)\n",
    "            if match:\n",
    "                steps.append(float(match.group(1)))\n",
    "                greedy_returns.append(float(match.group(2)))\n",
    "        elif \"Eval Stochastic\" in line:\n",
    "            match = re.search(r\"Env Steps: ([\\d.e+]+).*?Episode Return: ([\\d.]+)\", line)\n",
    "            if match:\n",
    "                stochastic_returns.append(float(match.group(2)))\n",
    "\n",
    "# Plotting\n",
    "plt.plot(steps, greedy_returns, label=\"Eval Greedy Return\")\n",
    "plt.plot(steps, stochastic_returns, label=\"Eval Stochastic Return\", alpha=0.7)\n",
    "plt.xlabel(\"Env Steps\")\n",
    "plt.ylabel(\"Episode Return\")\n",
    "plt.title(\"A2C on Tetris\")\n",
    "plt.legend()\n",
    "plt.grid(True)\n",
    "plt.tight_layout()\n",
    "plt.show()\n"
   ]
  },
  {
   "cell_type": "code",
   "execution_count": null,
   "metadata": {},
   "outputs": [],
   "source": []
  }
 ],
 "metadata": {
  "kernelspec": {
   "display_name": "435",
   "language": "python",
   "name": "python3"
  },
  "language_info": {
   "codemirror_mode": {
    "name": "ipython",
    "version": 3
   },
   "file_extension": ".py",
   "mimetype": "text/x-python",
   "name": "python",
   "nbconvert_exporter": "python",
   "pygments_lexer": "ipython3",
   "version": "3.10.11"
  }
 },
 "nbformat": 4,
 "nbformat_minor": 4
}
